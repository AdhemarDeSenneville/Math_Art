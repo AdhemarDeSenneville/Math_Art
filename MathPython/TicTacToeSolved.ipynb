{
 "cells": [
  {
   "cell_type": "code",
   "execution_count": 37,
   "metadata": {},
   "outputs": [],
   "source": [
    "import numpy as np\n",
    "#from MainTTT import Affichage\n",
    "import MainTTT"
   ]
  },
  {
   "cell_type": "code",
   "execution_count": 38,
   "metadata": {},
   "outputs": [
    {
     "data": {
      "image/png": "[encoded data removed]",
      "text/plain": [
       "<Figure size 432x288 with 1 Axes>"
      ]
     },
     "metadata": {
      "needs_background": "light"
     },
     "output_type": "display_data"
    }
   ],
   "source": [
    "MainTTT.CreatCross(3)\n",
    "MainTTT.Affichage(np.array([[1,-1,1],[0,0,1],[-1,0,0]]))"
   ]
  },
  {
   "cell_type": "code",
   "execution_count": 39,
   "metadata": {},
   "outputs": [],
   "source": [
    "class TTT:\n",
    "    def __init__(self,Mat):\n",
    "        self.Board=Mat\n",
    "        self.Turn=self.GetTurn()\n",
    "    \n",
    "    def GetTurn(self):\n",
    "        return np.sum(np.absolute(self.Board))\n",
    "    \n",
    "    def IsWin(self):\n",
    "        if max(np.sum(self.Board[0,:]),np.sum(self.Board[1,:]),np.sum(self.Board[2,:]))==3:\n",
    "            return 1\n",
    "        if max(np.sum(self.Board[:,0]),np.sum(self.Board[:,1]),np.sum(self.Board[:,2]))==3:\n",
    "            return 1\n",
    "        if min(np.sum(self.Board[0,:]),np.sum(self.Board[1,:]),np.sum(self.Board[2,:]))==-3:\n",
    "            return -1\n",
    "        if min(np.sum(self.Board[:,0]),np.sum(self.Board[:,1]),np.sum(self.Board[:,2]))==-3:\n",
    "            return -1\n",
    "        if self.Board[0,0]+self.Board[1,1]+self.Board[2,2]==3 or self.Board[2,0]+self.Board[1,1]+self.Board[0,2]==3:\n",
    "            return 1\n",
    "        if self.Board[0,0]+self.Board[1,1]+self.Board[2,2]==-3 or self.Board[2,0]+self.Board[1,1]+self.Board[0,2]==-3:\n",
    "            return -1\n",
    "        return 0 #A oppti de ouf(Ultra utiliser sur le final)\n",
    "    \n",
    "    \n",
    "    def AffichageBoard(self):\n",
    "        MainTTT.Affichage(self.Board)\n",
    "    \n",
    "    def MinMax(self):\n",
    "        T=self.GetTurn()\n",
    "        if T==9 or self.IsWin()!=0:\n",
    "            return self.IsWin()\n",
    "        \n",
    "        if T%2==0:\n",
    "            MaxEval=-1\n",
    "            for i in range(3):\n",
    "                for j in range(3):\n",
    "                    if self.Board[i,j]==0:\n",
    "                        Children=self.Board[:,:]\n",
    "                        Children[i,j]=1\n",
    "                        C=TTT(Children)\n",
    "                        MaxEval=max(MaxEval,C.MinMax())\n",
    "                    else:\n",
    "                        pass\n",
    "                \n",
    "            return MaxEval\n",
    "        else:\n",
    "            MinEval=1\n",
    "            for i in range(3):\n",
    "                for j in range(3):\n",
    "                    if self.Board[i,j]==0:\n",
    "                        Children=self.Board[:,:]\n",
    "                        Children[i,j]=-1\n",
    "                        C=TTT(Children)\n",
    "                        MinEval=min(MinEval,C.MinMax())\n",
    "                    else:\n",
    "                        pass\n",
    "                    \n",
    "            return MinEval"
   ]
  },
  {
   "cell_type": "code",
   "execution_count": null,
   "metadata": {},
   "outputs": [],
   "source": []
  },
  {
   "cell_type": "code",
   "execution_count": 50,
   "metadata": {},
   "outputs": [],
   "source": [
    "def IsWinOUT(A):\n",
    "        if max(np.sum(A[0,:]),np.sum(A[1,:]),np.sum(A[2,:]))==3:\n",
    "            return 1\n",
    "        if max(np.sum(A[:,0]),np.sum(A[:,1]),np.sum(A[:,2]))==3:\n",
    "            return 1\n",
    "        if min(np.sum(A[0,:]),np.sum(A[1,:]),np.sum(A[2,:]))==-3:\n",
    "            return -1\n",
    "        if min(np.sum(A[:,0]),np.sum(A[:,1]),np.sum(A[:,2]))==-3:\n",
    "            return -1\n",
    "        if A[0,0]+A[1,1]+A[2,2]==3 or A[2,0]+A[1,1]+A[0,2]==3:\n",
    "            return 1\n",
    "        if A[0,0]+A[1,1]+A[2,2]==-3 or A[2,0]+A[1,1]+A[0,2]==-3:\n",
    "            return -1\n",
    "        return 0 #A oppti de ouf(Ultra utiliser sur le final)\n",
    "\n",
    "def MinMaxOUT(A):\n",
    "        T=np.sum(np.absolute(A))\n",
    "        if T==9 or IsWinOUT(A)!=0:\n",
    "            return IsWinOUT(A)\n",
    "        if T%2==0:\n",
    "            MaxEval=-1\n",
    "            for i in range(3):\n",
    "                for j in range(3):\n",
    "                    if A[i,j]==0:\n",
    "                        Children=np.zeros((3,3))\n",
    "                        for k in range(3):\n",
    "                            for l in range(3):\n",
    "                                Children[k,l]=A[k,l]\n",
    "                        Children[i,j]=1\n",
    "                        MaxEval=max(MaxEval,MinMaxOUT(Children))\n",
    "                    else:\n",
    "                        pass\n",
    "                \n",
    "            return MaxEval\n",
    "        else:\n",
    "            MinEval=1\n",
    "            for i in range(3):\n",
    "                for j in range(3):\n",
    "                    if A[i,j]==0:\n",
    "                        Children=np.zeros((3,3))\n",
    "                        for k in range(3):\n",
    "                            for l in range(3):\n",
    "                                Children[k,l]=A[k,l]\n",
    "                        Children[i,j]=-1\n",
    "                        MinEval=min(MinEval,MinMaxOUT(Children))\n",
    "                    else:\n",
    "                        pass\n",
    "                    \n",
    "            return MinEval"
   ]
  },
  {
   "cell_type": "code",
   "execution_count": 51,
   "metadata": {},
   "outputs": [
    {
     "name": "stdout",
     "output_type": "stream",
     "text": [
      "0\n"
     ]
    }
   ],
   "source": [
    "MAT=np.array(  [[0,1,0],\n",
    "                [0, 0,0],\n",
    "                [0,0,0]])\n",
    "\n",
    "#G1=TTT(MAT)\n",
    "#print(G1.Turn,G1.IsWin())\n",
    "#G1.AffichageBoard()\n",
    "print(MinMaxOUT(MAT))\n"
   ]
  },
  {
   "cell_type": "code",
   "execution_count": null,
   "metadata": {},
   "outputs": [],
   "source": [
    "MinMax"
   ]
  }
 ],
 "metadata": {
  "kernelspec": {
   "display_name": "Python 3",
   "language": "python",
   "name": "python3"
  },
  "language_info": {
   "codemirror_mode": {
    "name": "ipython",
    "version": 3
   },
   "file_extension": ".py",
   "mimetype": "text/x-python",
   "name": "python",
   "nbconvert_exporter": "python",
   "pygments_lexer": "ipython3",
   "version": "3.7.6"
  }
 },
 "nbformat": 4,
 "nbformat_minor": 4
}
